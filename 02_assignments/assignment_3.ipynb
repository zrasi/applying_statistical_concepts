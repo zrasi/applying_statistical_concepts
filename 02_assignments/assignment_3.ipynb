{
 "cells": [
  {
   "cell_type": "markdown",
   "id": "7b0bcac6-5086-4f4e-928a-570a9ff7ae58",
   "metadata": {},
   "source": [
    "# Assignment 3"
   ]
  },
  {
   "cell_type": "markdown",
   "id": "5fce0350-2a17-4e93-8d4c-0b8748fdfc32",
   "metadata": {},
   "source": [
    "As before, if a question can be answered with 'yes/no', or a numeric value, you may simply state as much. If you incorporate code from the internet (which is not required and generally not advisable), please cite the source within your code (providing a URL is sufficient).\n",
    "\n",
    "We will go through comparable code and concepts in the live learning session. If you run into trouble, start by using the help `help()` function in Python, to get information about the datasets and function in question. The internet is also a great resource when coding (though note that no outside searches are required by the assignment!). If you do incorporate code from the internet, please cite the source within your code (providing a URL is sufficient).\n",
    "\n",
    "Please bring questions that you cannot work out on your own to office hours, work periods or share with your peers on Slack. We will work with you through the issue."
   ]
  },
  {
   "cell_type": "code",
   "execution_count": 85,
   "id": "ea94782f",
   "metadata": {},
   "outputs": [],
   "source": [
    "import numpy as np\n",
    "import pandas as pd\n",
    "import matplotlib.pyplot as plt\n",
    "import statsmodels.api as sm"
   ]
  },
  {
   "cell_type": "markdown",
   "id": "d7fff1dd-e4ce-4a60-96a0-d08136e9bf5e",
   "metadata": {},
   "source": [
    "### Question 1: Resampling via Bootstrapping\n",
    "\n",
    "Now, we'll use the `iris` dataset, which we will add to Python using the `statsmodels` library. As always, start by reviewing a description of the dataset, by printing the dataset."
   ]
  },
  {
   "cell_type": "code",
   "execution_count": 71,
   "id": "47f4dcf5-0d4c-41ea-892d-d9f2c1aa1859",
   "metadata": {},
   "outputs": [],
   "source": [
    "# Import\n",
    "iris = sm.datasets.get_rdataset('iris', 'datasets')\n",
    "df = pd.DataFrame(iris.data)"
   ]
  },
  {
   "cell_type": "code",
   "execution_count": 72,
   "id": "ec09c8ba",
   "metadata": {},
   "outputs": [
    {
     "name": "stdout",
     "output_type": "stream",
     "text": [
      "   Sepal.Length  Sepal.Width  Petal.Length  Petal.Width Species\n",
      "0           5.1          3.5           1.4          0.2  setosa\n",
      "1           4.9          3.0           1.4          0.2  setosa\n",
      "2           4.7          3.2           1.3          0.2  setosa\n",
      "3           4.6          3.1           1.5          0.2  setosa\n",
      "4           5.0          3.6           1.4          0.2  setosa\n"
     ]
    }
   ],
   "source": [
    "print(df.head())\n"
   ]
  },
  {
   "cell_type": "code",
   "execution_count": 73,
   "id": "2e2f62ad",
   "metadata": {},
   "outputs": [
    {
     "name": "stdout",
     "output_type": "stream",
     "text": [
      "Sepal.Length       5.1\n",
      "Sepal.Width        3.5\n",
      "Petal.Length       1.4\n",
      "Petal.Width        0.2\n",
      "Species         setosa\n",
      "Name: 0, dtype: object\n"
     ]
    }
   ],
   "source": [
    "print(df.iloc[0])"
   ]
  },
  {
   "cell_type": "code",
   "execution_count": 74,
   "id": "043687ec",
   "metadata": {},
   "outputs": [
    {
     "name": "stdout",
     "output_type": "stream",
     "text": [
      "Sepal.Length    float64\n",
      "Sepal.Width     float64\n",
      "Petal.Length    float64\n",
      "Petal.Width     float64\n",
      "Species          object\n",
      "dtype: object\n"
     ]
    }
   ],
   "source": [
    "print(df.dtypes)"
   ]
  },
  {
   "cell_type": "code",
   "execution_count": 88,
   "id": "ec35d1ae",
   "metadata": {},
   "outputs": [
    {
     "name": "stdout",
     "output_type": "stream",
     "text": [
      "150\n"
     ]
    }
   ],
   "source": [
    "num_rows = df.shape[0] # number of rows\n",
    "print(num_rows)"
   ]
  },
  {
   "cell_type": "code",
   "execution_count": 89,
   "id": "da8ff00d",
   "metadata": {},
   "outputs": [
    {
     "name": "stdout",
     "output_type": "stream",
     "text": [
      "(150, 5)\n"
     ]
    }
   ],
   "source": [
    "print(df.shape) # returns a tuple, first element is number of rows and the second is number of columns"
   ]
  },
  {
   "cell_type": "markdown",
   "id": "7717a32c",
   "metadata": {},
   "source": [
    "_(i)_ Create an `alpha_func(D, idx)` function which takes the `Sepal`'s `width` and `length` to calculate for alpha"
   ]
  },
  {
   "cell_type": "code",
   "execution_count": 94,
   "id": "f3da5483",
   "metadata": {},
   "outputs": [],
   "source": [
    "# Your code here\n",
    "def alpha_func(D,idx):\n",
    "    alpha_values = []\n",
    "    for i in idx:\n",
    "        sepal_width = D.loc[i, 'Sepal.Width'] # Access Sepal width for the given index\n",
    "        sepal_length = D.loc[i, 'Sepal.Length'] # Access Sepal length for the given index\n",
    "        alpha = sepal_width / sepal_length\n",
    "        alpha_values.append (alpha)\n",
    "    return alpha\n"
   ]
  },
  {
   "cell_type": "markdown",
   "id": "ff94d66b",
   "metadata": {},
   "source": [
    "Test the code below"
   ]
  },
  {
   "cell_type": "code",
   "execution_count": 95,
   "id": "eda715cd",
   "metadata": {},
   "outputs": [
    {
     "data": {
      "text/plain": [
       "0.49122807017543857"
      ]
     },
     "execution_count": 95,
     "metadata": {},
     "output_type": "execute_result"
    }
   ],
   "source": [
    "alpha_func(df, range(100))"
   ]
  },
  {
   "cell_type": "markdown",
   "id": "f338b14e",
   "metadata": {},
   "source": [
    "_(ii)_ Construct a new bootstrap data set and recompute alpha"
   ]
  },
  {
   "cell_type": "code",
   "execution_count": 84,
   "id": "34ee835f",
   "metadata": {},
   "outputs": [
    {
     "data": {
      "text/plain": [
       "0.45"
      ]
     },
     "execution_count": 84,
     "metadata": {},
     "output_type": "execute_result"
    }
   ],
   "source": [
    "rng = np.random.default_rng(0)\n",
    "alpha_func(df,\n",
    "           rng.choice(100,\n",
    "                      100,\n",
    "                      replace=True))"
   ]
  },
  {
   "cell_type": "markdown",
   "id": "056080ff-7aec-41aa-bb61-763b390e4cf2",
   "metadata": {},
   "source": [
    "Imagine we are analysts working for a shipping company. The company wants to know the average length of iris' petals, to inform space allotment on an upcoming shipment. The relevant variable in the dataset is `Sepal.Length`. \n",
    "\n",
    "_(iii)_ Why is it (perhaps) not sufficient to simply calculate the mean of `Sepal.Length`? What more information will preforming a bootstrap provide to us?  \n",
    "answer: Calculating the mean of Sepal.Length provides us a single estimate of the average sepal length, and this single estimate may not account for the variability in samples and accurately reflect the true population mean.\n",
    "Bootstrapping addresses this issue, it generates multiple resampled datasets, and allows us to estimate the standard error of the mean and derive confidence intervals. This approach provides a more comprehensive understanding of uncertainty and variability in our sample estimates, and improves the robustness of our statistical conclusions.\n",
    "\n",
    "_(iv)_ We can perform bootstrapping in Python by defining a simple function using `boot_SE()` for computing the bootstrap standard error. Remember, because bootstrapping involves randomness, we must first set a seed for reproducibility!"
   ]
  },
  {
   "cell_type": "code",
   "execution_count": 78,
   "id": "77540f76-7747-4dba-8e77-e1ded54af536",
   "metadata": {},
   "outputs": [],
   "source": [
    "# Add your code here to set the seed\n",
    "np.random.seed(42)\n"
   ]
  },
  {
   "cell_type": "code",
   "execution_count": 79,
   "id": "86442479",
   "metadata": {},
   "outputs": [],
   "source": [
    "# (iv) Defining boot_SE() Function\n",
    "def boot_SE(df, alpha_func, num_boots = 1000):\n",
    "    # data: The original dataset from which bootstrap samples will be drawn\n",
    "    # alpha_func: The function to compute the statistic of interest\n",
    "    # num_boots: Number of bootstrap samples to generate (default = 1000)\n",
    "    # se: Bootstrap standard error of the statistic\n",
    "    n = len(df) # n represents the number of observations in the dataset\n",
    "    bootstrap_samples = []\n",
    "    boots = np.zeros(num_boots)\n",
    "    for i in range(num_boots):\n",
    "        # Generate bootstrap sample\n",
    "        bootstrap_sample = np.random.choice(df.index, size=n, replace=True)\n",
    "        # Compute statistic of interest (alpha)\n",
    "        statistic = alpha_func(df, bootstrap_sample)\n",
    "        bootstrap_samples.append(statistic)\n",
    "    return bootstrap_samples\n"
   ]
  },
  {
   "cell_type": "markdown",
   "id": "8a543472",
   "metadata": {},
   "source": [
    "_(v)_ Evaluate the accuracy of our alpha estimate with B = 1000"
   ]
  },
  {
   "cell_type": "code",
   "execution_count": 96,
   "id": "a1f3043e",
   "metadata": {},
   "outputs": [
    {
     "name": "stdout",
     "output_type": "stream",
     "text": [
      "Mean of Alpha Estimate: 0.5315052583123934\n",
      "Standard Deviation of Alpha Estimate: 0.11653560945154973\n",
      "95% Confidence Interval for Alpha Estimate: [0.36666667 0.74509804]\n"
     ]
    }
   ],
   "source": [
    "bootstrap_samples = boot_SE(df, alpha_func, num_boots=1000)\n",
    "\n",
    "# Evaluate the accuracy of the alpha estimate\n",
    "alpha_mean = np.mean(bootstrap_samples)\n",
    "alpha_std = np.std(bootstrap_samples)\n",
    "alpha_ci = np.percentile(bootstrap_samples, [2.5, 97.5])\n",
    "\n",
    "print(f\"Mean of Alpha Estimate: {alpha_mean}\")\n",
    "print(f\"Standard Deviation of Alpha Estimate: {alpha_std}\")\n",
    "print(f\"95% Confidence Interval for Alpha Estimate: {alpha_ci}\")"
   ]
  },
  {
   "cell_type": "markdown",
   "id": "785fe758-f395-40b6-a9a3-28ec2efeba29",
   "metadata": {},
   "source": [
    "_(vi)_ What is the original mean value of `Sepal.Length`?\n",
    "answer: It is 5.843333333333334 (code below)\n",
    "\n",
    "Next, let's create a new bootstrapping to bootstrap samples (boot_se_samples) of Sepal.Length, in order to compute its bootstrapped mean and standard deviation.\n",
    "\n",
    "_(vii)_. Write code to review the bootstrapped mean value, and the standard deviation of the bootstrapped samples. Compare the mean against its original value.  Then, review the bootstrapped range, by using t_range = np.ptp(boot_se_samples)."
   ]
  },
  {
   "cell_type": "markdown",
   "id": "b6dd9e37",
   "metadata": {},
   "source": [
    "_(viii)_ Next, let's compute 95% confidence intervals, for the mean value of iris sepal length. (Hint: use the `np.percentile` function)"
   ]
  },
  {
   "cell_type": "code",
   "execution_count": 58,
   "id": "7686243c",
   "metadata": {},
   "outputs": [
    {
     "name": "stdout",
     "output_type": "stream",
     "text": [
      "5.843333333333334\n"
     ]
    }
   ],
   "source": [
    "# Add your code here\n",
    "original_mean = df['Sepal.Length'].mean()\n",
    "print(original_mean)"
   ]
  },
  {
   "cell_type": "code",
   "execution_count": 99,
   "id": "17228bc8",
   "metadata": {},
   "outputs": [
    {
     "name": "stdout",
     "output_type": "stream",
     "text": [
      "Original Mean of Sepal.Length: 5.843333333333334\n",
      "Bootstrapped Mean: 5.844700666666666\n",
      "95% Confidence Interval for Mean: [5.71063333 5.97268333]\n",
      "Original Standard Deviation of Sepal.Length: 0.828066127977863\n",
      "Bootstrapped Standard Deviation: 0.8203346481060249\n",
      "95% Confidence Interval for Standard Deviation: [0.74560408 0.90169365]\n"
     ]
    }
   ],
   "source": [
    "# (vii) & (viii)\n",
    "def bootstrap_mean_std(data, num_boots=1000):\n",
    "    n = len(data)\n",
    "    boots_means = np.zeros(num_boots)\n",
    "    boots_stds = np.zeros(num_boots)\n",
    "    \n",
    "    for i in range(num_boots):\n",
    "        bootstrap_sample = np.random.choice(data, size=n, replace=True)\n",
    "        boots_means[i] = np.mean(bootstrap_sample)\n",
    "        boots_stds[i] = np.std(bootstrap_sample)\n",
    "    \n",
    "    return boots_means, boots_stds\n",
    "\n",
    "# Perform bootstrapping on Sepal.Length column\n",
    "np.random.seed(42)\n",
    "boot_means, boot_stds = bootstrap_mean_std(df['Sepal.Length'])\n",
    "\n",
    "# Calculate original mean and standard deviation\n",
    "original_mean = df['Sepal.Length'].mean()\n",
    "original_std = df['Sepal.Length'].std()\n",
    "\n",
    "# Calculate 95% confidence intervals using np.percentile\n",
    "conf_interval_mean = np.percentile(boot_means, [2.5, 97.5])\n",
    "conf_interval_std = np.percentile(boot_stds, [2.5, 97.5])\n",
    "\n",
    "\n",
    "\n",
    "# Print results\n",
    "print(f\"Original Mean of Sepal.Length: {original_mean}\")\n",
    "print(f\"Bootstrapped Mean: {np.mean(boot_means)}\")\n",
    "print(f\"95% Confidence Interval for Mean: {conf_interval_mean}\")\n",
    "print(f\"Original Standard Deviation of Sepal.Length: {original_std}\")\n",
    "print(f\"Bootstrapped Standard Deviation: {np.mean(boot_stds)}\")\n",
    "print(f\"95% Confidence Interval for Standard Deviation: {conf_interval_std}\")\n",
    "\n"
   ]
  },
  {
   "cell_type": "markdown",
   "id": "1f498901",
   "metadata": {},
   "source": [
    "The output '[5.71063333 5.97268333]' means that we are 95% confident that the true population mean Sepal Length falls within this interval."
   ]
  },
  {
   "cell_type": "markdown",
   "id": "488e54f7-ebe4-4740-835c-9832320005d0",
   "metadata": {},
   "source": [
    "_(ix)_. Use the plot function to create an histogram of the bootstrapped samples. What does this histogram show ?"
   ]
  },
  {
   "cell_type": "code",
   "execution_count": 100,
   "id": "4fca4e3f",
   "metadata": {},
   "outputs": [
    {
     "data": {
      "image/png": "[encoded data removed]",
      "text/plain": [
       "<Figure size 640x480 with 1 Axes>"
      ]
     },
     "metadata": {},
     "output_type": "display_data"
    }
   ],
   "source": [
    "#Complete this\n",
    "\n",
    "# Create a figure and axis\n",
    "fig, ax = plt.subplots()\n",
    "\n",
    "# Create the histogram\n",
    "#Add your code here\n",
    "ax.hist(boot_means, bins=30, edgecolor='black')\n",
    "\n",
    "# Add a title\n",
    "#Add your code here\n",
    "ax.set_title('Histogram of Bootstrapped Means of Sepal Length')\n",
    "\n",
    "# Add a label to the x-axis\n",
    "#Add your code here\n",
    "ax.set_xlabel('Mean Sepal Length')\n",
    "\n",
    "# Add a label to the y-axis\n",
    "#Add your code here\n",
    "ax.set_ylabel('Frequency')\n",
    "\n",
    "# Show the plot\n",
    "plt.show()"
   ]
  },
  {
   "cell_type": "markdown",
   "id": "bfa9a095-9c7a-4ab5-aa99-b11bf419fae0",
   "metadata": {},
   "source": [
    "_(x)_ Given your bootstrapped analysis, what do you recommend to shipping company? "
   ]
  },
  {
   "cell_type": "markdown",
   "id": "4f581f3b",
   "metadata": {},
   "source": [
    "I would recommend informing the shipping company that the estimated average sepal length of iris flowers, based on our analysis, falls within the range of 5.71063333 and 5.97268333. This range provides a more comprehensive understanding compared to just presenting a single point estimate, and it incorporates the variability and uncertainty inherent in the dataset."
   ]
  },
  {
   "cell_type": "markdown",
   "id": "466943e8",
   "metadata": {},
   "source": [
    "# Criteria\n",
    "\n",
    "|Criteria            |Complete           |Incomplete          |\n",
    "|--------------------|---------------|--------------|\n",
    "|Bootstrapping|All steps are done correctly and the answers are correct.|At least one step is done incorrectly leading to a wrong answer.|"
   ]
  },
  {
   "cell_type": "markdown",
   "id": "68b8a226",
   "metadata": {},
   "source": [
    "## Submission Information\n",
    "\n",
    "🚨 **Please review our [Assignment Submission Guide](https://github.com/UofT-DSI/onboarding/blob/main/onboarding_documents/submissions.md)** 🚨 for detailed instructions on how to format, branch, and submit your work. Following these guidelines is crucial for your submissions to be evaluated correctly.\n",
    "\n",
    "### Note:\n",
    "\n",
    "If you like, you may collaborate with others in the cohort. If you choose to do so, please indicate with whom you have worked with in your pull request by tagging their GitHub username. Separate submissions are required.\n",
    "\n",
    "\n",
    "### Submission Parameters:\n",
    "* Submission Due Date: `HH:MM AM/PM - DD/MM/YYYY`\n",
    "* The branch name for your repo should be: `assignment-3`\n",
    "* What to submit for this assignment:\n",
    "    * This Jupyter Notebook (assignment_3.ipynb) should be populated and should be the only change in your pull request.\n",
    "* What the pull request link should look like for this assignment: `https://github.com/<your_github_username>/applying_statistical_concepts/pull/<pr_id>`\n",
    "    * Open a private window in your browser. Copy and paste the link to your pull request into the address bar. Make sure you can see your pull request properly. This helps the technical facilitator and learning support staff review your submission easily.\n",
    "\n",
    "Checklist:\n",
    "- [ ] Created a branch with the correct naming convention.\n",
    "- [ ] Ensured that the repository is public.\n",
    "- [ ] Reviewed the PR description guidelines and adhered to them.\n",
    "- [ ] Verify that the link is accessible in a private browser window.\n",
    "\n",
    "If you encounter any difficulties or have questions, please don't hesitate to reach out to our team via our Slack at `#cohort-3-help`. Our Technical Facilitators and Learning Support staff are here to help you navigate any challenges.\n"
   ]
  }
 ],
 "metadata": {
  "kernelspec": {
   "display_name": "Python 3.10.4",
   "language": "python",
   "name": "python3"
  },
  "language_info": {
   "codemirror_mode": {
    "name": "ipython",
    "version": 3
   },
   "file_extension": ".py",
   "mimetype": "text/x-python",
   "name": "python",
   "nbconvert_exporter": "python",
   "pygments_lexer": "ipython3",
   "version": "3.9.15"
  },
  "vscode": {
   "interpreter": {
    "hash": "497a84dc8fec8cf8d24e7e87b6d954c9a18a327edc66feb9b9ea7e9e72cc5c7e"
   }
  }
 },
 "nbformat": 4,
 "nbformat_minor": 5
}
